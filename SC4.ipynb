{
  "nbformat": 4,
  "nbformat_minor": 0,
  "metadata": {
    "colab": {
      "provenance": [],
      "include_colab_link": true
    },
    "kernelspec": {
      "name": "python3",
      "display_name": "Python 3"
    },
    "language_info": {
      "name": "python"
    }
  },
  "cells": [
    {
      "cell_type": "markdown",
      "metadata": {
        "id": "view-in-github",
        "colab_type": "text"
      },
      "source": [
        "<a href=\"https://colab.research.google.com/github/ricardofitas/MIT_SCM4/blob/main/SC4.ipynb\" target=\"_parent\"><img src=\"https://colab.research.google.com/assets/colab-badge.svg\" alt=\"Open In Colab\"/></a>"
      ]
    },
    {
      "cell_type": "markdown",
      "source": [
        "# SC4x | Template\n",
        ">!! SAVE A COPY OF THIS READ-ONLY TEMPLATE BEFORE YOU START !!"
      ],
      "metadata": {
        "id": "oys83zKX6MIB"
      }
    },
    {
      "cell_type": "markdown",
      "source": [
        "# Set up Python"
      ],
      "metadata": {
        "id": "qZ2lvplOYkXs"
      }
    },
    {
      "cell_type": "markdown",
      "source": [
        ">Run both of the code cells below in order. Do not edit the code. Wait for the first cell to finish (green check), which might take 20 seconds or so, before running the second."
      ],
      "metadata": {
        "id": "fjucbCRufE66"
      }
    },
    {
      "cell_type": "code",
      "source": [
        "!pip install scx>=1.2.1 # Install the 'scx' package created by Connor Makowski at MIT."
      ],
      "metadata": {
        "id": "WpD-z4l3Yoec"
      },
      "execution_count": null,
      "outputs": []
    },
    {
      "cell_type": "code",
      "source": [
        "# Import the Database class from the scx package\n",
        "from scx.database import Database\n",
        "\n",
        "# Import other useful packages\n",
        "# If you are not running this in Colab, you likely won't use files and might need to install pprint, pandas, and io\n",
        "from pprint import pprint\n",
        "import pandas as pd\n",
        "import io\n",
        "from google.colab import files"
      ],
      "metadata": {
        "id": "-EX_2ObYYp2d"
      },
      "execution_count": null,
      "outputs": []
    },
    {
      "cell_type": "markdown",
      "source": [
        "# Set up the database"
      ],
      "metadata": {
        "id": "jsObcWTHZDD3"
      }
    },
    {
      "cell_type": "code",
      "source": [
        "# Template to set up a database\n",
        "db = Database(f\"\"\"\n",
        "\n",
        "    SQL_CODE_HERE\n",
        "\n",
        "\"\"\")"
      ],
      "metadata": {
        "id": "7IuqmWYNZCDd"
      },
      "execution_count": null,
      "outputs": []
    },
    {
      "cell_type": "code",
      "source": [
        "# Show the tables and columns in the database\n",
        "db.show_info()"
      ],
      "metadata": {
        "id": "s1_0HezkZOSG"
      },
      "execution_count": null,
      "outputs": []
    },
    {
      "cell_type": "markdown",
      "source": [
        "# Query the database"
      ],
      "metadata": {
        "id": "9OI4ONGSZcZ_"
      }
    },
    {
      "cell_type": "code",
      "source": [
        "# Template for queries\n",
        "pprint(db.query(\"\"\"\n",
        "\n",
        "    SQL_CODE_HERE\n",
        "\n",
        "\"\"\"))"
      ],
      "metadata": {
        "id": "Q50XcoeUZb5R"
      },
      "execution_count": null,
      "outputs": []
    }
  ]
}